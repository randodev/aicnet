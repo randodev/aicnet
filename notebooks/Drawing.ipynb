{
 "cells": [
  {
   "cell_type": "code",
   "execution_count": 1,
   "metadata": {},
   "outputs": [],
   "source": [
    "import matplotlib.pyplot as plt\n",
    "import numpy as np\n",
    "import os\n",
    "import json"
   ]
  },
  {
   "cell_type": "code",
   "execution_count": 2,
   "metadata": {},
   "outputs": [],
   "source": [
    "def read_bids_comparison(folder):\n",
    "    with open(os.path.join(folder, 'bids_comparison.json'), 'r') as fin:\n",
    "        return json.load(fin)"
   ]
  },
  {
   "cell_type": "code",
   "execution_count": 3,
   "metadata": {},
   "outputs": [],
   "source": [
    "def plot_bar(x, y, text_x, text_y, title, fontsize_x=None, rotation_x=None):\n",
    "    index = np.arange(len(x))\n",
    "    plt.bar(index, y)\n",
    "    plt.xlabel(text_x) #, fontsize=5)\n",
    "    plt.ylabel(text_y) #, fontsize=5)\n",
    "    plt.xticks(index, x, fontsize=fontsize_x, rotation=rotation_x)#, fontsize=5, rotation=30)\n",
    "    plt.title(title)\n",
    "    plt.show()"
   ]
  },
  {
   "cell_type": "code",
   "execution_count": 4,
   "metadata": {},
   "outputs": [],
   "source": [
    "def get_wins_per_transporter(bids_comparison):\n",
    "    icnet = {}\n",
    "    aicnet = {}\n",
    "    for bid in bids_comparison:\n",
    "        t_icnet = bid['transporter']['icnet']\n",
    "        if t_icnet not in icnet:\n",
    "            icnet[t_icnet] = 0\n",
    "        \n",
    "        t_aicnet = bid['transporter']['aicnet']\n",
    "        if t_aicnet not in aicnet:\n",
    "            aicnet[t_aicnet] = 0\n",
    "        \n",
    "        icnet[t_icnet] +=1\n",
    "        aicnet[t_aicnet] +=1\n",
    "    \n",
    "    return icnet, aicnet\n",
    "        "
   ]
  },
  {
   "cell_type": "code",
   "execution_count": 5,
   "metadata": {},
   "outputs": [],
   "source": [
    "def show_total_wins_per_transpoter(folder):\n",
    "    bids_comparison = read_bids_comparison(folder)\n",
    "    icnet_wpt, aicnet_wpt = get_wins_per_transporter(bids_comparison)\n",
    "    \n",
    "    # ICNET\n",
    "    plot_bar(\n",
    "        [x for x in icnet_wpt],\n",
    "        [icnet_wpt[x] for x in icnet_wpt],\n",
    "        'Transporter', 'Wins', 'Transpoter / Number of wins',\n",
    "        fontsize_x = 5\n",
    "    )\n",
    "    \n",
    "    # AICNET\n",
    "    plot_bar(\n",
    "        [x for x in aicnet_wpt],\n",
    "        [aicnet_wpt[x] for x in aicnet_wpt],\n",
    "        'Transporter', 'Wins', 'Transpoter / Number of wins',\n",
    "        fontsize_x = 5\n",
    "    )"
   ]
  },
  {
   "cell_type": "code",
   "execution_count": 6,
   "metadata": {},
   "outputs": [
    {
     "data": {
      "image/png": "[encoded data removed]",
      "text/plain": [
       "<Figure size 432x288 with 1 Axes>"
      ]
     },
     "metadata": {
      "needs_background": "light"
     },
     "output_type": "display_data"
    },
    {
     "data": {
      "image/png": "[encoded data removed]",
      "text/plain": [
       "<Figure size 432x288 with 1 Axes>"
      ]
     },
     "metadata": {
      "needs_background": "light"
     },
     "output_type": "display_data"
    }
   ],
   "source": [
    "show_total_wins_per_transpoter('new_simulations/500_LOW_PRICE_LENIENT_50_1000_12_10_10_pagerank_False')"
   ]
  },
  {
   "cell_type": "code",
   "execution_count": 7,
   "metadata": {},
   "outputs": [],
   "source": [
    "def plot_timeseries():\n",
    "    plt.plot([1,2,3,4])\n",
    "    plt.ylabel('some numbers')\n",
    "    plt.show()"
   ]
  },
  {
   "cell_type": "code",
   "execution_count": 17,
   "metadata": {},
   "outputs": [],
   "source": [
    "def get_profit_per_transporter(bids_comparison):\n",
    "    icnet = {}\n",
    "    aicnet = {}\n",
    "    for bid in bids_comparison:\n",
    "        t_icnet = bid['transporter']['icnet']\n",
    "        if t_icnet not in icnet:\n",
    "            icnet[t_icnet] = 0\n",
    "        \n",
    "        t_aicnet = bid['transporter']['aicnet']\n",
    "        if t_aicnet not in aicnet:\n",
    "            aicnet[t_aicnet] = 0\n",
    "        \n",
    "        icnet[t_icnet] += float(bid['winning_price']['icnet']) - float(bid['estimated_price']['icnet'])\n",
    "        aicnet[t_aicnet] += float(bid['winning_price']['aicnet']) - float(bid['estimated_price']['aicnet'])\n",
    "    \n",
    "    return icnet, aicnet"
   ]
  },
  {
   "cell_type": "code",
   "execution_count": 18,
   "metadata": {},
   "outputs": [],
   "source": [
    "def show_total_profits_per_transpoter(folder):\n",
    "    bids_comparison = read_bids_comparison(folder)\n",
    "    icnet_ppt, aicnet_ppt = get_profit_per_transporter(bids_comparison)\n",
    "    \n",
    "    # ICNET\n",
    "    plot_bar(\n",
    "        [x for x in icnet_ppt],\n",
    "        [icnet_ppt[x] for x in icnet_ppt],\n",
    "        'Transporter', 'Profit', 'Transpoter / Profits',\n",
    "        fontsize_x = 5\n",
    "    )\n",
    "    \n",
    "    # AICNET\n",
    "    plot_bar(\n",
    "        [x for x in aicnet_ppt],\n",
    "        [aicnet_ppt[x] for x in aicnet_ppt],\n",
    "        'Transporter', 'Profit', 'Transpoter / Profits',\n",
    "        fontsize_x = 5\n",
    "    )"
   ]
  },
  {
   "cell_type": "code",
   "execution_count": 19,
   "metadata": {},
   "outputs": [
    {
     "data": {
      "image/png": "[encoded data removed]",
      "text/plain": [
       "<Figure size 432x288 with 1 Axes>"
      ]
     },
     "metadata": {
      "needs_background": "light"
     },
     "output_type": "display_data"
    },
    {
     "data": {
      "image/png": "[encoded data removed]",
      "text/plain": [
       "<Figure size 432x288 with 1 Axes>"
      ]
     },
     "metadata": {
      "needs_background": "light"
     },
     "output_type": "display_data"
    }
   ],
   "source": [
    "show_total_profits_per_transpoter('new_simulations_with_est/500_LOW_PRICE_LENIENT_15_500_12_10_10_pagerank_False')"
   ]
  },
  {
   "cell_type": "code",
   "execution_count": null,
   "metadata": {},
   "outputs": [],
   "source": []
  }
 ],
 "metadata": {
  "kernelspec": {
   "display_name": "Python 3",
   "language": "python",
   "name": "python3"
  },
  "language_info": {
   "codemirror_mode": {
    "name": "ipython",
    "version": 3
   },
   "file_extension": ".py",
   "mimetype": "text/x-python",
   "name": "python",
   "nbconvert_exporter": "python",
   "pygments_lexer": "ipython3",
   "version": "3.6.8"
  }
 },
 "nbformat": 4,
 "nbformat_minor": 2
}
