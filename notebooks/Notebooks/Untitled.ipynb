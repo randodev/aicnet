{
 "cells": [
  {
   "cell_type": "code",
   "execution_count": 35,
   "metadata": {},
   "outputs": [],
   "source": [
    "import sys\n",
    "import os\n",
    "sys.path.append(\"..\")\n",
    "from pyvis.network import Network\n",
    "from aicnet.environment import Environment\n",
    "import networkx as nx\n",
    "import shutil\n",
    "from itertools import product\n",
    "import json"
   ]
  },
  {
   "cell_type": "code",
   "execution_count": 2,
   "metadata": {},
   "outputs": [],
   "source": [
    "# # Environment variables\n",
    "# brokerPersonality = \"LOW_PRICE_LENIENT\"\n",
    "# noTransportProviders = 15\n",
    "# noCargoOwners = 1000\n",
    "# maxNegotiationIterations = 12\n",
    "# displacement = 30  # percentage\n",
    "# deviation = 10  # the smaller the more diverse population\n",
    "# # initialising the environment\n",
    "# e = Environment(\n",
    "#     brokerPersonality,\n",
    "#     noTransportProviders,\n",
    "#     noCargoOwners,\n",
    "#     maxNegotiationIterations,\n",
    "#     displacement,\n",
    "#     deviation\n",
    "# )\n",
    "\n",
    "# e.icnet_experiment(1000)\n",
    "# e.aicnet_experiment(1000, \"pagerank\", False)\n",
    "# e.stats.get_avg_no_iterations_per_negotiation(1)\n",
    "# e.stats.get_avg_no_iterations_per_negotiation(2)\n",
    "# e.stats.get_transporter_gain_stats(1)\n",
    "# e.stats.get_transporter_gain_stats(2)\n",
    "# e.stats.get_winning_transporter_personality_stats(1)\n",
    "# e.stats.get_winning_transporter_personality_stats(2)\n",
    "# e.stats.get_nr_of_failed_negotiations(1)\n",
    "# e.stats.get_nr_of_failed_negotiations(2)\n",
    "# e.stats.plot_sorted_winning_transporters()\n",
    "\n",
    "# e.stats.build_graph(1)\n",
    "# e.stats.build_graph(2)\n",
    "\n",
    "# e.stats.save_graph(1, \"icnet_graph\")\n",
    "# e.stats.save_graph(2, \"aicnet_graph\")"
   ]
  },
  {
   "cell_type": "code",
   "execution_count": 36,
   "metadata": {},
   "outputs": [],
   "source": [
    "def save_network_graph(networkx_graph, folder):\n",
    "    G = Network()\n",
    "    GH = Network()\n",
    "    G.from_nx(networkx_graph)\n",
    "\n",
    "    edges = G.edges\n",
    "    nodes = G.nodes\n",
    "\n",
    "    node_size = {}\n",
    "    for edge in G.edges:\n",
    "        node_id = edge['from']\n",
    "        if node_id not in node_size:\n",
    "            node_size[node_id] = 1\n",
    "        else:\n",
    "            node_size[node_id]+=1\n",
    "\n",
    "    for node_id in node_size:\n",
    "        GH.add_node(node_id, label=str(node_id), value=node_size[node_id], color='orange')\n",
    "    for node in nodes:\n",
    "        if node['id'] in node_size:\n",
    "            continue\n",
    "        GH.add_node(node['id'], label=str(node['id']), value=1)\n",
    "    for edge in edges:\n",
    "        GH.add_node(node_id, label=str(edge['to']), value=1, color='gray')\n",
    "        GH.add_edge(edge['from'], edge['to'], color='gray')\n",
    "\n",
    "    GH.toggle_physics(True)\n",
    "    GH.show_buttons(filter_=['physics'])\n",
    "    GH.write_html(os.path.join(folder,\"mygraph.html\"))\n",
    "    \n",
    "    # Serialize to disk\n",
    "    with open(os.path.join(folder, 'graph.json'), 'w') as fout:\n",
    "        json.dump(edges, fout)\n",
    "        "
   ]
  },
  {
   "cell_type": "code",
   "execution_count": 37,
   "metadata": {},
   "outputs": [],
   "source": [
    "def simulation(numberOfCargos, brokerPersonality, \n",
    "               noTransportProviders,noCargoOwners,\n",
    "               maxNegotiationIterations,displacement,\n",
    "               deviation, \n",
    "               aicnetRankMethod, aicnetRankReverseFlag):\n",
    "    \n",
    "    simulation_name = \"_\".join([\n",
    "        str(numberOfCargos),\n",
    "        str(brokerPersonality),\n",
    "        str(noTransportProviders),\n",
    "        str(noCargoOwners),\n",
    "        str(maxNegotiationIterations),\n",
    "        str(displacement),\n",
    "        str(deviation),\n",
    "        str(aicnetRankMethod),\n",
    "        str(aicnetRankReverseFlag)\n",
    "    ])\n",
    "    \n",
    "    simulation_path = os.path.join(\"simulations\", simulation_name)\n",
    "    shutil.rmtree(simulation_path)\n",
    "    os.makedirs(simulation_path)\n",
    "    \n",
    "    e = Environment(\n",
    "        brokerPersonality,\n",
    "        noTransportProviders,\n",
    "        noCargoOwners,\n",
    "        maxNegotiationIterations,\n",
    "        displacement,\n",
    "        deviation\n",
    "    )\n",
    "\n",
    "    e.icnet_experiment(numberOfCargos)\n",
    "    e.aicnet_experiment(numberOfCargos, \"pagerank\", False)\n",
    "    e.stats.get_avg_no_iterations_per_negotiation(1)\n",
    "    e.stats.get_avg_no_iterations_per_negotiation(2)\n",
    "    e.stats.get_transporter_gain_stats(1)\n",
    "    e.stats.get_transporter_gain_stats(2)\n",
    "    e.stats.get_winning_transporter_personality_stats(1)\n",
    "    e.stats.get_winning_transporter_personality_stats(2)\n",
    "    e.stats.get_nr_of_failed_negotiations(1)\n",
    "    e.stats.get_nr_of_failed_negotiations(2)\n",
    "    \n",
    "    # Plotting\n",
    "    e.stats.plot_sorted_winning_transporters(simulation_path)\n",
    "    #e.stats.plot_metric_comparison(\"pagerank\", simulation_path)\n",
    "    e.stats.plot_sorted_successfull_biding_cargo_owners(simulation_path)\n",
    "    \n",
    "    e.stats.build_graph(1)\n",
    "    e.stats.build_graph(2)\n",
    "\n",
    "    e.stats.save_graph_adj(1, simulation_path)\n",
    "    e.stats.save_graph_adj(2, simulation_path)\n",
    "    \n",
    "    save_network_graph(e.stats.graph_icnet, simulation_path)\n",
    "    save_network_graph(e.stats.graph_aicnet, simulation_path)    "
   ]
  },
  {
   "cell_type": "code",
   "execution_count": 38,
   "metadata": {},
   "outputs": [
    {
     "data": {
      "text/plain": [
       "256"
      ]
     },
     "execution_count": 38,
     "metadata": {},
     "output_type": "execute_result"
    }
   ],
   "source": [
    "\n",
    "options_numberOfCargos = [10]\n",
    "options_brokerPersonality = [\"HIGH_PRICE_LENIENT\", \"HIGH_PRICE_CONSERVATIVE\",\"LOW_PRICE_LENIENT\", \"LOW_PRICE_CONSERVATIVE\"]\n",
    "options_noTransportProviders = [15, 500]\n",
    "options_noCargoOwners = [1000, 5000]\n",
    "options_maxNegotiationIterations = [12, 200]\n",
    "options_displacement = [10, 90]\n",
    "options_deviation = [10, 90]\n",
    "options_aicnetRankMethod = [\"pagerank\"]\n",
    "options_aicnetRankReverseFlag = [True, False]\n",
    "simulation_options = list(product(\n",
    "    options_numberOfCargos,\n",
    "    options_brokerPersonality,\n",
    "    options_noTransportProviders,\n",
    "    options_noCargoOwners,\n",
    "    options_maxNegotiationIterations,\n",
    "    options_displacement,\n",
    "    options_deviation,\n",
    "    options_aicnetRankMethod,\n",
    "    options_aicnetRankReverseFlag,\n",
    "))\n",
    "len(simulation_options)"
   ]
  },
  {
   "cell_type": "code",
   "execution_count": 39,
   "metadata": {},
   "outputs": [
    {
     "name": "stdout",
     "output_type": "stream",
     "text": [
      "0\n",
      "1\n",
      "2\n",
      "3\n",
      "4\n",
      "5\n",
      "6\n",
      "7\n",
      "8\n",
      "9\n"
     ]
    },
    {
     "data": {
      "image/png": "[encoded data removed]",
      "text/plain": [
       "<Figure size 432x288 with 1 Axes>"
      ]
     },
     "metadata": {
      "needs_background": "light"
     },
     "output_type": "display_data"
    }
   ],
   "source": [
    "simulation(*simulation_options[0])"
   ]
  },
  {
   "cell_type": "code",
   "execution_count": null,
   "metadata": {},
   "outputs": [],
   "source": []
  },
  {
   "cell_type": "code",
   "execution_count": null,
   "metadata": {},
   "outputs": [],
   "source": []
  },
  {
   "cell_type": "code",
   "execution_count": null,
   "metadata": {},
   "outputs": [],
   "source": []
  }
 ],
 "metadata": {
  "kernelspec": {
   "display_name": "Python 3",
   "language": "python",
   "name": "python3"
  },
  "language_info": {
   "codemirror_mode": {
    "name": "ipython",
    "version": 3
   },
   "file_extension": ".py",
   "mimetype": "text/x-python",
   "name": "python",
   "nbconvert_exporter": "python",
   "pygments_lexer": "ipython3",
   "version": "3.6.8"
  }
 },
 "nbformat": 4,
 "nbformat_minor": 2
}
